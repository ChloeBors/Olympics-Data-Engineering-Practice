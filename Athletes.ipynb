{
 "cells": [
  {
   "cell_type": "markdown",
   "id": "7d42df05",
   "metadata": {},
   "source": [
    "## PySpark Data Engineering Practice (Sandboxing)\n",
    "### Olympic Athlete Data"
   ]
  },
  {
   "cell_type": "markdown",
   "id": "de87be39",
   "metadata": {},
   "source": [
    "This notebook is for data engineering practicing purposes.\n",
    "During this notebook I want to explore data by using and learning PySpark.\n",
    "The data is from: https://www.kaggle.com/mysarahmadbhat/120-years-of-olympic-history"
   ]
  },
  {
   "cell_type": "code",
   "execution_count": 1,
   "id": "13ceb55b",
   "metadata": {},
   "outputs": [],
   "source": [
    "## Imports\n",
    "from pyspark.sql import SparkSession ## Create session\n",
    "from pyspark.sql.types import StructType, StructField, StringType, IntegerType ## Create schema"
   ]
  },
  {
   "cell_type": "code",
   "execution_count": 2,
   "id": "8fa5776b",
   "metadata": {},
   "outputs": [],
   "source": [
    "## Create spark sessions\n",
    "spark = (SparkSession.builder.appName(\"AthletesAnalytics\").getOrCreate())"
   ]
  },
  {
   "cell_type": "markdown",
   "id": "45f70a22",
   "metadata": {},
   "source": [
    "### Import the data"
   ]
  },
  {
   "cell_type": "code",
   "execution_count": 3,
   "id": "90973893",
   "metadata": {},
   "outputs": [],
   "source": [
    "## Create schema\n",
    "schema = StructType([\n",
    "    StructField(\"ID\", StringType(), True),\n",
    "    StructField(\"Name\", StringType(), True),\n",
    "    StructField(\"Sex\", StringType(), True),\n",
    "    StructField(\"Age\", StringType(), True),\n",
    "    StructField(\"Height\", StringType(), True),\n",
    "    StructField(\"Weight\", StringType(), True),\n",
    "    StructField(\"Team\", StringType(), True),\n",
    "    StructField(\"NOC\", StringType(), True),\n",
    "    StructField(\"Games\", StringType(), True),\n",
    "    StructField(\"Year\", StringType(), True),\n",
    "    StructField(\"Season\", StringType(), True),\n",
    "    StructField(\"City\", StringType(), True),\n",
    "    StructField(\"Sport\", StringType(), True),\n",
    "    StructField(\"Event\", StringType(), True),\n",
    "    StructField(\"Medal\", StringType(), True),\n",
    "])"
   ]
  },
  {
   "cell_type": "code",
   "execution_count": 4,
   "id": "97bebb44",
   "metadata": {},
   "outputs": [],
   "source": [
    "## Read CSV into dataframe\n",
    "file_path = \"./data/athlete_events.csv\"\n",
    "athletes_df = (spark.read.format(\"csv\")\n",
    "            .option(\"header\", True)\n",
    "            .schema(schema)\n",
    "            .load(file_path))"
   ]
  },
  {
   "cell_type": "code",
   "execution_count": 5,
   "id": "c4d04f8f",
   "metadata": {},
   "outputs": [
    {
     "name": "stdout",
     "output_type": "stream",
     "text": [
      "+---+------------------------+---+---+------+------+--------------+---+-----------+----+------+-----------+-------------+----------------------------------+-----+\n",
      "|ID |Name                    |Sex|Age|Height|Weight|Team          |NOC|Games      |Year|Season|City       |Sport        |Event                             |Medal|\n",
      "+---+------------------------+---+---+------+------+--------------+---+-----------+----+------+-----------+-------------+----------------------------------+-----+\n",
      "|1  |A Dijiang               |M  |24 |180   |80    |China         |CHN|1992 Summer|1992|Summer|Barcelona  |Basketball   |Basketball Men's Basketball       |NA   |\n",
      "|2  |A Lamusi                |M  |23 |170   |60    |China         |CHN|2012 Summer|2012|Summer|London     |Judo         |Judo Men's Extra-Lightweight      |NA   |\n",
      "|3  |Gunnar Nielsen Aaby     |M  |24 |NA    |NA    |Denmark       |DEN|1920 Summer|1920|Summer|Antwerpen  |Football     |Football Men's Football           |NA   |\n",
      "|4  |Edgar Lindenau Aabye    |M  |34 |NA    |NA    |Denmark/Sweden|DEN|1900 Summer|1900|Summer|Paris      |Tug-Of-War   |Tug-Of-War Men's Tug-Of-War       |Gold |\n",
      "|5  |Christine Jacoba Aaftink|F  |21 |185   |82    |Netherlands   |NED|1988 Winter|1988|Winter|Calgary    |Speed Skating|Speed Skating Women's 500 metres  |NA   |\n",
      "|5  |Christine Jacoba Aaftink|F  |21 |185   |82    |Netherlands   |NED|1988 Winter|1988|Winter|Calgary    |Speed Skating|Speed Skating Women's 1,000 metres|NA   |\n",
      "|5  |Christine Jacoba Aaftink|F  |25 |185   |82    |Netherlands   |NED|1992 Winter|1992|Winter|Albertville|Speed Skating|Speed Skating Women's 500 metres  |NA   |\n",
      "|5  |Christine Jacoba Aaftink|F  |25 |185   |82    |Netherlands   |NED|1992 Winter|1992|Winter|Albertville|Speed Skating|Speed Skating Women's 1,000 metres|NA   |\n",
      "|5  |Christine Jacoba Aaftink|F  |27 |185   |82    |Netherlands   |NED|1994 Winter|1994|Winter|Lillehammer|Speed Skating|Speed Skating Women's 500 metres  |NA   |\n",
      "|5  |Christine Jacoba Aaftink|F  |27 |185   |82    |Netherlands   |NED|1994 Winter|1994|Winter|Lillehammer|Speed Skating|Speed Skating Women's 1,000 metres|NA   |\n",
      "+---+------------------------+---+---+------+------+--------------+---+-----------+----+------+-----------+-------------+----------------------------------+-----+\n",
      "only showing top 10 rows\n",
      "\n"
     ]
    }
   ],
   "source": [
    "## Showing first 10 rows\n",
    "athletes_df.show(10, False)"
   ]
  },
  {
   "cell_type": "code",
   "execution_count": 6,
   "id": "5441e957",
   "metadata": {
    "scrolled": true
   },
   "outputs": [
    {
     "name": "stdout",
     "output_type": "stream",
     "text": [
      "root\n",
      " |-- ID: string (nullable = true)\n",
      " |-- Name: string (nullable = true)\n",
      " |-- Sex: string (nullable = true)\n",
      " |-- Age: string (nullable = true)\n",
      " |-- Height: string (nullable = true)\n",
      " |-- Weight: string (nullable = true)\n",
      " |-- Team: string (nullable = true)\n",
      " |-- NOC: string (nullable = true)\n",
      " |-- Games: string (nullable = true)\n",
      " |-- Year: string (nullable = true)\n",
      " |-- Season: string (nullable = true)\n",
      " |-- City: string (nullable = true)\n",
      " |-- Sport: string (nullable = true)\n",
      " |-- Event: string (nullable = true)\n",
      " |-- Medal: string (nullable = true)\n",
      "\n"
     ]
    }
   ],
   "source": [
    "## Print out schema details\n",
    "athletes_df.printSchema()"
   ]
  },
  {
   "cell_type": "code",
   "execution_count": 7,
   "id": "23be9dc4",
   "metadata": {},
   "outputs": [
    {
     "name": "stdout",
     "output_type": "stream",
     "text": [
      "-RECORD 0----------------------\n",
      " ID     | 1                    \n",
      " Name   | A Dijiang            \n",
      " Sex    | M                    \n",
      " Age    | 24                   \n",
      " Height | 180                  \n",
      " Weight | 80                   \n",
      " Team   | China                \n",
      " NOC    | CHN                  \n",
      " Games  | 1992 Summer          \n",
      " Year   | 1992                 \n",
      " Season | Summer               \n",
      " City   | Barcelona            \n",
      " Sport  | Basketball           \n",
      " Event  | Basketball Men's ... \n",
      " Medal  | NA                   \n",
      "-RECORD 1----------------------\n",
      " ID     | 2                    \n",
      " Name   | A Lamusi             \n",
      " Sex    | M                    \n",
      " Age    | 23                   \n",
      " Height | 170                  \n",
      " Weight | 60                   \n",
      " Team   | China                \n",
      " NOC    | CHN                  \n",
      " Games  | 2012 Summer          \n",
      " Year   | 2012                 \n",
      " Season | Summer               \n",
      " City   | London               \n",
      " Sport  | Judo                 \n",
      " Event  | Judo Men's Extra-... \n",
      " Medal  | NA                   \n",
      "-RECORD 2----------------------\n",
      " ID     | 3                    \n",
      " Name   | Gunnar Nielsen Aaby  \n",
      " Sex    | M                    \n",
      " Age    | 24                   \n",
      " Height | NA                   \n",
      " Weight | NA                   \n",
      " Team   | Denmark              \n",
      " NOC    | DEN                  \n",
      " Games  | 1920 Summer          \n",
      " Year   | 1920                 \n",
      " Season | Summer               \n",
      " City   | Antwerpen            \n",
      " Sport  | Football             \n",
      " Event  | Football Men's Fo... \n",
      " Medal  | NA                   \n",
      "only showing top 3 rows\n",
      "\n"
     ]
    }
   ],
   "source": [
    "athletes_df.show(3, vertical=True)"
   ]
  },
  {
   "cell_type": "markdown",
   "id": "3c43fabf",
   "metadata": {},
   "source": [
    "### Exploration & Cleansing"
   ]
  },
  {
   "cell_type": "code",
   "execution_count": 8,
   "id": "39d58700",
   "metadata": {},
   "outputs": [
    {
     "name": "stdout",
     "output_type": "stream",
     "text": [
      "+---+--------------------+---+---+------+------+-------------+---+-----------+----+------+-----------+--------------------+--------------------+-----+\n",
      "| ID|                Name|Sex|Age|Height|Weight|         Team|NOC|      Games|Year|Season|       City|               Sport|               Event|Medal|\n",
      "+---+--------------------+---+---+------+------+-------------+---+-----------+----+------+-----------+--------------------+--------------------+-----+\n",
      "|  1|           A Dijiang|  M| 24|   180|    80|        China|CHN|1992 Summer|1992|Summer|  Barcelona|          Basketball|Basketball Men's ...|   NA|\n",
      "|  2|            A Lamusi|  M| 23|   170|    60|        China|CHN|2012 Summer|2012|Summer|     London|                Judo|Judo Men's Extra-...|   NA|\n",
      "|  3| Gunnar Nielsen Aaby|  M| 24|    NA|    NA|      Denmark|DEN|1920 Summer|1920|Summer|  Antwerpen|            Football|Football Men's Fo...|   NA|\n",
      "|  5|Christine Jacoba ...|  F| 21|   185|    82|  Netherlands|NED|1988 Winter|1988|Winter|    Calgary|       Speed Skating|Speed Skating Wom...|   NA|\n",
      "|  5|Christine Jacoba ...|  F| 21|   185|    82|  Netherlands|NED|1988 Winter|1988|Winter|    Calgary|       Speed Skating|Speed Skating Wom...|   NA|\n",
      "|  5|Christine Jacoba ...|  F| 25|   185|    82|  Netherlands|NED|1992 Winter|1992|Winter|Albertville|       Speed Skating|Speed Skating Wom...|   NA|\n",
      "|  5|Christine Jacoba ...|  F| 25|   185|    82|  Netherlands|NED|1992 Winter|1992|Winter|Albertville|       Speed Skating|Speed Skating Wom...|   NA|\n",
      "|  5|Christine Jacoba ...|  F| 27|   185|    82|  Netherlands|NED|1994 Winter|1994|Winter|Lillehammer|       Speed Skating|Speed Skating Wom...|   NA|\n",
      "|  5|Christine Jacoba ...|  F| 27|   185|    82|  Netherlands|NED|1994 Winter|1994|Winter|Lillehammer|       Speed Skating|Speed Skating Wom...|   NA|\n",
      "|  6|     Per Knut Aaland|  M| 31|   188|    75|United States|USA|1992 Winter|1992|Winter|Albertville|Cross Country Skiing|Cross Country Ski...|   NA|\n",
      "+---+--------------------+---+---+------+------+-------------+---+-----------+----+------+-----------+--------------------+--------------------+-----+\n",
      "only showing top 10 rows\n",
      "\n"
     ]
    }
   ],
   "source": [
    "### Check for NA values by exploring columns\n",
    "from pyspark.sql.functions import col\n",
    "athletes_df.filter(col(\"Medal\") == \"NA\").show(10)\n",
    "## NA values in: \n",
    "## Age, Height, Weight, Team, NOC National Olympics Committee, and Medal."
   ]
  },
  {
   "cell_type": "markdown",
   "id": "bb4a8161",
   "metadata": {},
   "source": [
    "#### Drop rows where age, height or weight have NA values."
   ]
  },
  {
   "cell_type": "code",
   "execution_count": 9,
   "id": "fca5feaa",
   "metadata": {},
   "outputs": [],
   "source": [
    "athletes_df = athletes_df.filter((col(\"Age\") != \"NA\") & (col(\"Height\") != \"NA\") & (col(\"Weight\") != \"NA\"))"
   ]
  },
  {
   "cell_type": "code",
   "execution_count": 10,
   "id": "a4ad4635",
   "metadata": {},
   "outputs": [
    {
     "name": "stdout",
     "output_type": "stream",
     "text": [
      "+---+----+---+---+------+------+----+---+-----+----+------+----+-----+-----+-----+\n",
      "| ID|Name|Sex|Age|Height|Weight|Team|NOC|Games|Year|Season|City|Sport|Event|Medal|\n",
      "+---+----+---+---+------+------+----+---+-----+----+------+----+-----+-----+-----+\n",
      "+---+----+---+---+------+------+----+---+-----+----+------+----+-----+-----+-----+\n",
      "\n",
      "+---+----+---+---+------+------+----+---+-----+----+------+----+-----+-----+-----+\n",
      "| ID|Name|Sex|Age|Height|Weight|Team|NOC|Games|Year|Season|City|Sport|Event|Medal|\n",
      "+---+----+---+---+------+------+----+---+-----+----+------+----+-----+-----+-----+\n",
      "+---+----+---+---+------+------+----+---+-----+----+------+----+-----+-----+-----+\n",
      "\n",
      "+---+----+---+---+------+------+----+---+-----+----+------+----+-----+-----+-----+\n",
      "| ID|Name|Sex|Age|Height|Weight|Team|NOC|Games|Year|Season|City|Sport|Event|Medal|\n",
      "+---+----+---+---+------+------+----+---+-----+----+------+----+-----+-----+-----+\n",
      "+---+----+---+---+------+------+----+---+-----+----+------+----+-----+-----+-----+\n",
      "\n"
     ]
    }
   ],
   "source": [
    "## Check if correct\n",
    "athletes_df.filter((col(\"Age\") == \"NA\")).show(5)\n",
    "athletes_df.filter((col(\"Height\") == \"NA\")).show(5)\n",
    "athletes_df.filter((col(\"Weight\") == \"NA\")).show(5)"
   ]
  },
  {
   "cell_type": "markdown",
   "id": "2ffa5cb6",
   "metadata": {},
   "source": [
    "#### Check if other columns have the right values"
   ]
  },
  {
   "cell_type": "code",
   "execution_count": 11,
   "id": "cdd1870b",
   "metadata": {},
   "outputs": [
    {
     "name": "stdout",
     "output_type": "stream",
     "text": [
      "+---+-----+\n",
      "| ID|Value|\n",
      "+---+-----+\n",
      "+---+-----+\n",
      "\n"
     ]
    }
   ],
   "source": [
    "### Check if ID, Age, Height, Weight and Year are indeed all integer values\n",
    "### Checking ID first on non numeric values\n",
    "from pyspark.sql.types import DataType, StructField, StructType, IntegerType, StringType\n",
    "test_df = athletes_df.select('ID',col('ID').cast(IntegerType()).isNotNull().alias(\"Value\"))\n",
    "test_df.filter((col(\"Value\") == False)).show(5)"
   ]
  },
  {
   "cell_type": "code",
   "execution_count": 12,
   "id": "81b374ff",
   "metadata": {},
   "outputs": [
    {
     "name": "stdout",
     "output_type": "stream",
     "text": [
      "+------------+-----+\n",
      "|         Age|Value|\n",
      "+------------+-----+\n",
      "|           M|false|\n",
      "|           M|false|\n",
      "|           M|false|\n",
      "| -Andersen)\"|false|\n",
      "|           M|false|\n",
      "+------------+-----+\n",
      "only showing top 5 rows\n",
      "\n"
     ]
    }
   ],
   "source": [
    "### Checking Age on non numeric values\n",
    "from pyspark.sql.types import DataType, StructField, StructType, IntegerType, StringType\n",
    "test_df = athletes_df.select('Age',col('Age').cast(IntegerType()).isNotNull().alias(\"Value\"))\n",
    "test_df.filter((col(\"Value\") == False)).show(5)"
   ]
  },
  {
   "cell_type": "code",
   "execution_count": 13,
   "id": "4cc2753f",
   "metadata": {},
   "outputs": [
    {
     "data": {
      "text/plain": [
       "205688"
      ]
     },
     "execution_count": 13,
     "metadata": {},
     "output_type": "execute_result"
    }
   ],
   "source": [
    "### As seen something isn't going well. There are gender and even name values in Age. \n",
    "### Let's see how many rows have this problem\n",
    "test_df.filter((col(\"Value\") == True)).count()"
   ]
  },
  {
   "cell_type": "code",
   "execution_count": 14,
   "id": "9695ceee",
   "metadata": {},
   "outputs": [
    {
     "data": {
      "text/plain": [
       "500"
      ]
     },
     "execution_count": 14,
     "metadata": {},
     "output_type": "execute_result"
    }
   ],
   "source": [
    "### 500 out of 206188 values have this problem\n",
    "test_df.filter((col(\"Value\") == False)).count()"
   ]
  },
  {
   "cell_type": "code",
   "execution_count": 15,
   "id": "2ac08c75",
   "metadata": {},
   "outputs": [
    {
     "name": "stdout",
     "output_type": "stream",
     "text": [
      "0.24%\n"
     ]
    }
   ],
   "source": [
    "### Percentage of broken rows\n",
    "print(str(round(500 / 206188 * 100,2)) + '%')"
   ]
  },
  {
   "cell_type": "code",
   "execution_count": 16,
   "id": "c5e0b79a",
   "metadata": {},
   "outputs": [
    {
     "name": "stdout",
     "output_type": "stream",
     "text": [
      "+----+--------------------+-----+---+------+------+----+-------------+-----+-----------+------+------+---------+----------+--------------------+\n",
      "|  ID|                Name|  Sex|Age|Height|Weight|Team|          NOC|Games|       Year|Season|  City|    Sport|     Event|               Medal|\n",
      "+----+--------------------+-----+---+------+------+----+-------------+-----+-----------+------+------+---------+----------+--------------------+\n",
      "|2781|\"Robert Jeffrey \"...|  II\"|  M|    22|   185|  91|United States|  USA|1992 Summer|  1992|Summer|Barcelona|  Baseball|Baseball Men's Ba...|\n",
      "|3874|\"William Lloyd \"\"...| Jr.\"|  M|    21|   200|  86|United States|  USA|1988 Summer|  1988|Summer|    Seoul|Basketball|Basketball Men's ...|\n",
      "|4361|\"Joseph \"\"Joe\"\" A...| Jr.\"|  M|    31|   170|  66|United States|  USA|1948 Summer|  1948|Summer|   London|    Rowing|Rowing Men's Doub...|\n",
      "|6270|\"Arthur DeLancey ...| Jr.\"|  M|    21|   193|  86|United States|  USA|1956 Summer|  1956|Summer|Melbourne|    Rowing|Rowing Men's Coxe...|\n",
      "|6270|\"Arthur DeLancey ...| Jr.\"|  M|    25|   193|  86|United States|  USA|1960 Summer|  1960|Summer|     Roma|    Rowing|Rowing Men's Coxl...|\n",
      "+----+--------------------+-----+---+------+------+----+-------------+-----+-----------+------+------+---------+----------+--------------------+\n",
      "only showing top 5 rows\n",
      "\n"
     ]
    }
   ],
   "source": [
    "athletes_df.filter((col(\"Age\") == \"M\")).show(5)"
   ]
  },
  {
   "cell_type": "code",
   "execution_count": 17,
   "id": "ed7c2b22",
   "metadata": {},
   "outputs": [
    {
     "name": "stdout",
     "output_type": "stream",
     "text": [
      "+---+----+---+---+------+------+----+---+-----+----+------+----+-----+-----+-----+\n",
      "| ID|Name|Sex|Age|Height|Weight|Team|NOC|Games|Year|Season|City|Sport|Event|Medal|\n",
      "+---+----+---+---+------+------+----+---+-----+----+------+----+-----+-----+-----+\n",
      "+---+----+---+---+------+------+----+---+-----+----+------+----+-----+-----+-----+\n",
      "\n"
     ]
    }
   ],
   "source": [
    "### The reason for this error is that there is a , in some of the names. \n",
    "### For now I'll drop these rows. This can be done with the following filter function\n",
    "athletes_df = athletes_df.filter(\"CAST(Age AS INTEGER) IS NOT NULL\")\n",
    "athletes_df.filter((col(\"Age\"))==\"M\").show()"
   ]
  },
  {
   "cell_type": "code",
   "execution_count": 18,
   "id": "a921aa1b",
   "metadata": {},
   "outputs": [
    {
     "name": "stdout",
     "output_type": "stream",
     "text": [
      "+------+-----+\n",
      "|Height|Value|\n",
      "+------+-----+\n",
      "+------+-----+\n",
      "\n"
     ]
    }
   ],
   "source": [
    "### By fixing the rows, there are also no wrong values anymore in Height\n",
    "test_df = athletes_df.select('Height',col('Height').cast(IntegerType()).isNotNull().alias(\"Value\"))\n",
    "test_df.filter((col(\"Value\") == False)).show(5)"
   ]
  },
  {
   "cell_type": "code",
   "execution_count": 19,
   "id": "01286cc5",
   "metadata": {},
   "outputs": [
    {
     "data": {
      "text/plain": [
       "205688"
      ]
     },
     "execution_count": 19,
     "metadata": {},
     "output_type": "execute_result"
    }
   ],
   "source": [
    "### As you can see, 500 rows where deleted.\n",
    "athletes_df.count()"
   ]
  },
  {
   "cell_type": "code",
   "execution_count": 20,
   "id": "78a4fc22",
   "metadata": {
    "scrolled": false
   },
   "outputs": [
    {
     "name": "stdout",
     "output_type": "stream",
     "text": [
      "+------+\n",
      "|Season|\n",
      "+------+\n",
      "|Summer|\n",
      "|Winter|\n",
      "+------+\n",
      "\n"
     ]
    }
   ],
   "source": [
    "### Check the distinct values for seasons.\n",
    "### As seen there are no odd values in this column.\n",
    "athletes_df.select(\"Season\").distinct().show()"
   ]
  },
  {
   "cell_type": "code",
   "execution_count": 21,
   "id": "0749cc35",
   "metadata": {},
   "outputs": [
    {
     "name": "stdout",
     "output_type": "stream",
     "text": [
      "+---+----+---+---+------+------+----+---+-----+----+------+----+-----+-----+-----+----------+\n",
      "| ID|Name|Sex|Age|Height|Weight|Team|NOC|Games|Year|Season|City|Sport|Event|Medal|length_NOC|\n",
      "+---+----+---+---+------+------+----+---+-----+----+------+----+-----+-----+-----+----------+\n",
      "+---+----+---+---+------+------+----+---+-----+----+------+----+-----+-----+-----+----------+\n",
      "\n"
     ]
    }
   ],
   "source": [
    "### Check the length of NOC, as seen in the result this is always 3, so that is good.\n",
    "from pyspark.sql.functions import length\n",
    "test_df = athletes_df.withColumn(\"length_NOC\",  length(\"NOC\")).filter((col(\"length_NOC\") != 3))\n",
    "test_df.show()"
   ]
  },
  {
   "cell_type": "code",
   "execution_count": 22,
   "id": "9bd25ae7",
   "metadata": {},
   "outputs": [
    {
     "name": "stdout",
     "output_type": "stream",
     "text": [
      "+---+----+---+---+------+------+----+---+-----+----+------+----+-----+-----+-----+\n",
      "| ID|Name|Sex|Age|Height|Weight|Team|NOC|Games|Year|Season|City|Sport|Event|Medal|\n",
      "+---+----+---+---+------+------+----+---+-----+----+------+----+-----+-----+-----+\n",
      "+---+----+---+---+------+------+----+---+-----+----+------+----+-----+-----+-----+\n",
      "\n"
     ]
    }
   ],
   "source": [
    "### Check if sex is only M and F, as seen this is correct.\n",
    "athletes_df.filter((col(\"Sex\")!=\"F\") & (col(\"Sex\")!=\"M\")).show()"
   ]
  },
  {
   "cell_type": "markdown",
   "id": "b60a64f2",
   "metadata": {},
   "source": [
    "### Masking the name"
   ]
  },
  {
   "cell_type": "markdown",
   "id": "421439f6",
   "metadata": {},
   "source": [
    "To practice the idea of private information I want to explore masking the name."
   ]
  },
  {
   "cell_type": "markdown",
   "id": "49d9f1b0",
   "metadata": {},
   "source": [
    "#### Masking "
   ]
  },
  {
   "cell_type": "code",
   "execution_count": 23,
   "id": "9ea7ded8",
   "metadata": {},
   "outputs": [
    {
     "name": "stdout",
     "output_type": "stream",
     "text": [
      "+-------------------------+-------------------------+\n",
      "|Name                     |mask_name(Name)          |\n",
      "+-------------------------+-------------------------+\n",
      "|Shakeel Abbasi           |Shxxxxxxxxxxsi           |\n",
      "|Raouf Abdelraouf         |Raxxxxxxxxxxxxuf         |\n",
      "|Sara Helena berg         |Saxxxxxxxxxxxxrg         |\n",
      "|Jos Eugenio Acosta       |Joxxxxxxxxxxxxxxta       |\n",
      "|\"Frances \"\"Fran\"\" Adcock\"|\"Fxxxxxxxxxxxxxxxxxxxxxk\"|\n",
      "+-------------------------+-------------------------+\n",
      "only showing top 5 rows\n",
      "\n"
     ]
    }
   ],
   "source": [
    "### Masks name showing the first and last two characters. \n",
    "### If name is less than 5 characters, it will only show the first character.\n",
    "from pyspark.sql.functions import udf\n",
    "\n",
    "def mask_name(columnValue):\n",
    "        if len(columnValue) < 5:\n",
    "            nameList=list(columnValue)\n",
    "            start = \"\".join(nameList[:1])\n",
    "            masking = 'x'*(len(nameList)-1)\n",
    "            masked_name = start+masking\n",
    "        else:\n",
    "            nameList=list(columnValue)\n",
    "            start = \"\".join(nameList[:2])\n",
    "            end = \"\".join(nameList[-2:])\n",
    "            masking = 'x'*(len(nameList)-4)\n",
    "            masked_name = start+masking+end\n",
    "        return masked_name\n",
    "    \n",
    "### Make the function work with PySpark\n",
    "mask_name_udf = udf(mask_name, StringType())\n",
    "\n",
    "### Test function\n",
    "athletes_df.select(\"Name\",mask_name_udf(athletes_df[\"Name\"])).distinct().show(5, truncate=False)"
   ]
  },
  {
   "cell_type": "code",
   "execution_count": 24,
   "id": "e0afe014",
   "metadata": {},
   "outputs": [],
   "source": [
    "athletes_df = athletes_df.withColumn(\"MaskedName\",mask_name_udf(athletes_df[\"Name\"])).drop(col(\"Name\"))"
   ]
  },
  {
   "cell_type": "code",
   "execution_count": 25,
   "id": "b62b140a",
   "metadata": {},
   "outputs": [
    {
     "name": "stdout",
     "output_type": "stream",
     "text": [
      "-RECORD 0--------------------------\n",
      " ID         | 1                    \n",
      " Sex        | M                    \n",
      " Age        | 24                   \n",
      " Height     | 180                  \n",
      " Weight     | 80                   \n",
      " Team       | China                \n",
      " NOC        | CHN                  \n",
      " Games      | 1992 Summer          \n",
      " Year       | 1992                 \n",
      " Season     | Summer               \n",
      " City       | Barcelona            \n",
      " Sport      | Basketball           \n",
      " Event      | Basketball Men's ... \n",
      " Medal      | NA                   \n",
      " MaskedName | A xxxxxng            \n",
      "only showing top 1 row\n",
      "\n"
     ]
    }
   ],
   "source": [
    "athletes_df.show(1,vertical=True)"
   ]
  },
  {
   "cell_type": "markdown",
   "id": "72aabab0",
   "metadata": {},
   "source": [
    "### Fixing Schema"
   ]
  },
  {
   "cell_type": "code",
   "execution_count": 26,
   "id": "eae8e0ea",
   "metadata": {},
   "outputs": [
    {
     "name": "stdout",
     "output_type": "stream",
     "text": [
      "root\n",
      " |-- ID: string (nullable = true)\n",
      " |-- Sex: string (nullable = true)\n",
      " |-- Age: string (nullable = true)\n",
      " |-- Height: string (nullable = true)\n",
      " |-- Weight: string (nullable = true)\n",
      " |-- Team: string (nullable = true)\n",
      " |-- NOC: string (nullable = true)\n",
      " |-- Games: string (nullable = true)\n",
      " |-- Year: string (nullable = true)\n",
      " |-- Season: string (nullable = true)\n",
      " |-- City: string (nullable = true)\n",
      " |-- Sport: string (nullable = true)\n",
      " |-- Event: string (nullable = true)\n",
      " |-- Medal: string (nullable = true)\n",
      " |-- MaskedName: string (nullable = true)\n",
      "\n"
     ]
    }
   ],
   "source": [
    "athletes_df.printSchema()"
   ]
  },
  {
   "cell_type": "code",
   "execution_count": 27,
   "id": "6f7879d8",
   "metadata": {},
   "outputs": [
    {
     "name": "stdout",
     "output_type": "stream",
     "text": [
      "root\n",
      " |-- Sex: string (nullable = true)\n",
      " |-- Age: integer (nullable = true)\n",
      " |-- Height: integer (nullable = true)\n",
      " |-- Weight: integer (nullable = true)\n",
      " |-- Team: string (nullable = true)\n",
      " |-- NOC: string (nullable = true)\n",
      " |-- Games: string (nullable = true)\n",
      " |-- Year: integer (nullable = true)\n",
      " |-- Season: string (nullable = true)\n",
      " |-- City: string (nullable = true)\n",
      " |-- Sport: string (nullable = true)\n",
      " |-- Event: string (nullable = true)\n",
      " |-- Medal: string (nullable = true)\n",
      " |-- MaskedName: string (nullable = true)\n",
      " |-- PlayerID: integer (nullable = true)\n",
      " |-- Name: string (nullable = true)\n",
      "\n"
     ]
    }
   ],
   "source": [
    "### ID, Age Height, Weight and Year should be integer\n",
    "athletes_final_df = (athletes_df.withColumn(\"PlayerID\", col(\"ID\").cast(IntegerType()))\n",
    "                    .drop(col(\"ID\"))\n",
    "                    .withColumn(\"Name\", col(\"MaskedName\").cast(StringType()))\n",
    "                    .withColumn(\"Age\", col(\"Age\").cast(IntegerType()))\n",
    "                    .withColumn(\"Height\", col(\"Height\").cast(IntegerType()))\n",
    "                    .withColumn(\"Weight\", col(\"Weight\").cast(IntegerType()))\n",
    "                    .withColumn(\"Year\", col(\"Year\").cast(IntegerType()))\n",
    "                    )\n",
    "athletes_final_df.printSchema()"
   ]
  },
  {
   "cell_type": "code",
   "execution_count": 28,
   "id": "d7ea88f9",
   "metadata": {},
   "outputs": [
    {
     "name": "stdout",
     "output_type": "stream",
     "text": [
      "-RECORD 0------------------------\n",
      " PlayerID | 1                    \n",
      " Name     | A xxxxxng            \n",
      " Sex      | M                    \n",
      " Age      | 24                   \n",
      " Height   | 180                  \n",
      " Weight   | 80                   \n",
      " Team     | China                \n",
      " NOC      | CHN                  \n",
      " Games    | 1992 Summer          \n",
      " Year     | 1992                 \n",
      " Season   | Summer               \n",
      " City     | Barcelona            \n",
      " Sport    | Basketball           \n",
      " Event    | Basketball Men's ... \n",
      " Medal    | NA                   \n",
      "only showing top 1 row\n",
      "\n"
     ]
    }
   ],
   "source": [
    "### Sort column order\n",
    "athletes_sorted_df = athletes_final_df.select(\n",
    "    [athletes_final_df.columns[-2]]\n",
    "    + [athletes_final_df.columns[-1]]\n",
    "    + athletes_final_df.columns[:-3])\n",
    "\n",
    "athletes_sorted_df.show(1, vertical=True)"
   ]
  },
  {
   "cell_type": "code",
   "execution_count": 29,
   "id": "225c045b",
   "metadata": {},
   "outputs": [
    {
     "name": "stdout",
     "output_type": "stream",
     "text": [
      "root\n",
      " |-- PlayerID: integer (nullable = true)\n",
      " |-- Name: string (nullable = true)\n",
      " |-- Sex: string (nullable = true)\n",
      " |-- Age: integer (nullable = true)\n",
      " |-- Height: integer (nullable = true)\n",
      " |-- Weight: integer (nullable = true)\n",
      " |-- Team: string (nullable = true)\n",
      " |-- NOC: string (nullable = true)\n",
      " |-- Games: string (nullable = true)\n",
      " |-- Year: integer (nullable = true)\n",
      " |-- Season: string (nullable = true)\n",
      " |-- City: string (nullable = true)\n",
      " |-- Sport: string (nullable = true)\n",
      " |-- Event: string (nullable = true)\n",
      " |-- Medal: string (nullable = true)\n",
      "\n"
     ]
    }
   ],
   "source": [
    "athletes_sorted_df.printSchema()"
   ]
  },
  {
   "cell_type": "markdown",
   "id": "020c6b5c",
   "metadata": {},
   "source": [
    "### Save to parquet"
   ]
  },
  {
   "cell_type": "code",
   "execution_count": 30,
   "id": "a7bb56c0",
   "metadata": {},
   "outputs": [],
   "source": [
    "## Write to parquet file, but this crashes laptop\n",
    "#output_path = './output/athlete_data'\n",
    "#athletes_sorted_df.write.partitionBy(\"Games\").mode(\"overwrite\").parquet(output_path)"
   ]
  },
  {
   "cell_type": "markdown",
   "id": "aea4e176",
   "metadata": {},
   "source": [
    "### Aggregations"
   ]
  },
  {
   "cell_type": "code",
   "execution_count": 31,
   "id": "6f56ddf2",
   "metadata": {},
   "outputs": [],
   "source": [
    "from pyspark.sql.functions import min, max, sum, sumDistinct, avg, col, expr, round, count"
   ]
  },
  {
   "cell_type": "markdown",
   "id": "fd641374",
   "metadata": {},
   "source": [
    "#### Medals per year"
   ]
  },
  {
   "cell_type": "code",
   "execution_count": 32,
   "id": "0a6f24f5",
   "metadata": {},
   "outputs": [
    {
     "name": "stdout",
     "output_type": "stream",
     "text": [
      "+----+-----+\n",
      "|Year|Medal|\n",
      "+----+-----+\n",
      "|1992|   NA|\n",
      "|2012|   NA|\n",
      "|1988|   NA|\n",
      "|1988|   NA|\n",
      "|1992|   NA|\n",
      "+----+-----+\n",
      "only showing top 5 rows\n",
      "\n"
     ]
    }
   ],
   "source": [
    "### Get year and medal\n",
    "medals_per_year_df = athletes_sorted_df.select(\n",
    "                    col(\"Year\"),\n",
    "                    col(\"Medal\")\n",
    "                    )\n",
    "medals_per_year_df.show(5)"
   ]
  },
  {
   "cell_type": "code",
   "execution_count": 33,
   "id": "db1555a2",
   "metadata": {},
   "outputs": [
    {
     "name": "stdout",
     "output_type": "stream",
     "text": [
      "+----+------+\n",
      "|Year| Medal|\n",
      "+----+------+\n",
      "|2014|Bronze|\n",
      "|1948|Bronze|\n",
      "|1948|  Gold|\n",
      "|1948|  Gold|\n",
      "|1948|  Gold|\n",
      "+----+------+\n",
      "only showing top 5 rows\n",
      "\n"
     ]
    }
   ],
   "source": [
    "### Filter out all rows with NA\n",
    "medals_per_year_df = medals_per_year_df.filter(col(\"Medal\")!=\"NA\")\n",
    "medals_per_year_df.show(5)"
   ]
  },
  {
   "cell_type": "code",
   "execution_count": 34,
   "id": "6a6a1d48",
   "metadata": {},
   "outputs": [
    {
     "name": "stdout",
     "output_type": "stream",
     "text": [
      "+----+-------------+\n",
      "|Year|Medals Amount|\n",
      "+----+-------------+\n",
      "|2016|         2013|\n",
      "|2014|          568|\n",
      "|2012|         1914|\n",
      "|2010|          511|\n",
      "|2008|         2035|\n",
      "+----+-------------+\n",
      "only showing top 5 rows\n",
      "\n"
     ]
    }
   ],
   "source": [
    "### show amount of medals per Year\n",
    "medals_per_year_df.groupBy(\"Year\").agg(count(\"Medal\").alias(\"Medals Amount\")).orderBy(\"Year\", ascending=False).show(5)"
   ]
  },
  {
   "cell_type": "markdown",
   "id": "4146bb72",
   "metadata": {},
   "source": [
    "#### Medals per country"
   ]
  },
  {
   "cell_type": "code",
   "execution_count": 35,
   "id": "a063455a",
   "metadata": {},
   "outputs": [
    {
     "name": "stdout",
     "output_type": "stream",
     "text": [
      "+------+\n",
      "| Medal|\n",
      "+------+\n",
      "|    NA|\n",
      "|Silver|\n",
      "|  Gold|\n",
      "|Bronze|\n",
      "+------+\n",
      "\n"
     ]
    }
   ],
   "source": [
    "### Show distinct medal values.\n",
    "athletes_sorted_df.select(\"Medal\").distinct().show()"
   ]
  },
  {
   "cell_type": "code",
   "execution_count": 36,
   "id": "c12c6d63",
   "metadata": {},
   "outputs": [
    {
     "name": "stdout",
     "output_type": "stream",
     "text": [
      "+-------+------+\n",
      "|   Team| Medal|\n",
      "+-------+------+\n",
      "|Finland|Bronze|\n",
      "|Finland|Bronze|\n",
      "|Finland|  Gold|\n",
      "|Finland|  Gold|\n",
      "|Finland|  Gold|\n",
      "+-------+------+\n",
      "only showing top 5 rows\n",
      "\n"
     ]
    }
   ],
   "source": [
    "### create new dataframe and filter out NA values for the medal column.\n",
    "medals_per_country_df = athletes_sorted_df.select(\n",
    "                    col(\"Team\"),\n",
    "                    col(\"Medal\")\n",
    "                    )\n",
    "\n",
    "medals_per_country_df = medals_per_country_df.filter(col(\"Medal\")!=\"NA\")\n",
    "\n",
    "medals_per_country_df.show(5)"
   ]
  },
  {
   "cell_type": "code",
   "execution_count": 37,
   "id": "0e3cd6d1",
   "metadata": {},
   "outputs": [
    {
     "name": "stdout",
     "output_type": "stream",
     "text": [
      "+-------------+------+------+\n",
      "|         Team| Medal|Amount|\n",
      "+-------------+------+------+\n",
      "|United States|  Gold|  1995|\n",
      "|United States|Silver|  1230|\n",
      "| Soviet Union|  Gold|   961|\n",
      "|United States|Bronze|   909|\n",
      "| Soviet Union|Silver|   629|\n",
      "| Soviet Union|Bronze|   613|\n",
      "|      Germany|Bronze|   538|\n",
      "|      Germany|  Gold|   507|\n",
      "|    Australia|Bronze|   471|\n",
      "|      Germany|Silver|   470|\n",
      "+-------------+------+------+\n",
      "only showing top 10 rows\n",
      "\n"
     ]
    }
   ],
   "source": [
    "### Aggregate and order by medal amount\n",
    "medals_per_country_df = medals_per_country_df.groupBy(\"Team\",\"Medal\").agg(count(\"Medal\").alias(\"Amount\")).orderBy(\"Amount\", ascending=False)\n",
    "medals_per_country_df.show(10)"
   ]
  },
  {
   "cell_type": "markdown",
   "id": "b72f69f1",
   "metadata": {},
   "source": [
    "#### Show information about height and weight"
   ]
  },
  {
   "cell_type": "code",
   "execution_count": 38,
   "id": "a47dcfcc",
   "metadata": {},
   "outputs": [
    {
     "name": "stdout",
     "output_type": "stream",
     "text": [
      "+-------+------------------+------------------+\n",
      "|summary|            Height|            Weight|\n",
      "+-------+------------------+------------------+\n",
      "|  count|            205688|            205688|\n",
      "|   mean|175.36527167360273| 70.67846933219245|\n",
      "| stddev|10.544748708871328|14.335718186598772|\n",
      "|    min|               127|                25|\n",
      "|    max|               226|               214|\n",
      "+-------+------------------+------------------+\n",
      "\n"
     ]
    }
   ],
   "source": [
    "### This could also be used to make sure there are no odd values in the columns\n",
    "athletes_sorted_df.select(\"Height\", \"Weight\").describe().show()"
   ]
  },
  {
   "cell_type": "code",
   "execution_count": 39,
   "id": "60e910e1",
   "metadata": {},
   "outputs": [
    {
     "name": "stdout",
     "output_type": "stream",
     "text": [
      "+------+------+---+--------+--------------+-----------+\n",
      "|Weight|Height|Age|PlayerID|          Name|       Team|\n",
      "+------+------+---+--------+--------------+-----------+\n",
      "|    25|   135| 14|   21049|Chxxxxxxxxxxui|North Korea|\n",
      "+------+------+---+--------+--------------+-----------+\n",
      "\n"
     ]
    }
   ],
   "source": [
    "### Weight of only 25?? Let's check out why that is.\n",
    "athletes_sorted_df.select(\"Weight\",\"Height\",\"Age\",\"PlayerID\",\"Name\",\"Team\").filter(col(\"Weight\")==25).distinct().show()"
   ]
  },
  {
   "cell_type": "markdown",
   "id": "505f74e0",
   "metadata": {},
   "source": [
    "#### Which country has the most medals in basketball?"
   ]
  },
  {
   "cell_type": "code",
   "execution_count": 40,
   "id": "14a33424",
   "metadata": {},
   "outputs": [
    {
     "name": "stdout",
     "output_type": "stream",
     "text": [
      "+--------+---------+---+---+------+------+-----+---+-----------+----+------+---------+----------+--------------------+-----+\n",
      "|PlayerID|     Name|Sex|Age|Height|Weight| Team|NOC|      Games|Year|Season|     City|     Sport|               Event|Medal|\n",
      "+--------+---------+---+---+------+------+-----+---+-----------+----+------+---------+----------+--------------------+-----+\n",
      "|       1|A xxxxxng|  M| 24|   180|    80|China|CHN|1992 Summer|1992|Summer|Barcelona|Basketball|Basketball Men's ...|   NA|\n",
      "|       2| A xxxxsi|  M| 23|   170|    60|China|CHN|2012 Summer|2012|Summer|   London|      Judo|Judo Men's Extra-...|   NA|\n",
      "+--------+---------+---+---+------+------+-----+---+-----------+----+------+---------+----------+--------------------+-----+\n",
      "only showing top 2 rows\n",
      "\n"
     ]
    }
   ],
   "source": [
    "athletes_sorted_df.show(2)"
   ]
  },
  {
   "cell_type": "code",
   "execution_count": 41,
   "id": "5451a312",
   "metadata": {},
   "outputs": [
    {
     "name": "stdout",
     "output_type": "stream",
     "text": [
      "+-----+----------+-----+\n",
      "| Team|     Sport|Medal|\n",
      "+-----+----------+-----+\n",
      "|China|Basketball|   NA|\n",
      "|Spain|Basketball|   NA|\n",
      "|Italy|Basketball|   NA|\n",
      "+-----+----------+-----+\n",
      "only showing top 3 rows\n",
      "\n"
     ]
    }
   ],
   "source": [
    "best_in_basketball_df = athletes_sorted_df.select(\n",
    "                    col(\"Team\"),\n",
    "                    col(\"Sport\"),\n",
    "                    col(\"Medal\")\n",
    "                    )\n",
    "\n",
    "best_in_basketball_df = best_in_basketball_df.filter(col(\"Sport\")==\"Basketball\")\n",
    "\n",
    "best_in_basketball_df.show(3)"
   ]
  },
  {
   "cell_type": "code",
   "execution_count": 42,
   "id": "ed16d8a6",
   "metadata": {},
   "outputs": [
    {
     "name": "stdout",
     "output_type": "stream",
     "text": [
      "+-------------+----------+------+\n",
      "|         Team|     Sport|Amount|\n",
      "+-------------+----------+------+\n",
      "|United States|Basketball|   331|\n",
      "|    Australia|Basketball|   248|\n",
      "|       Brazil|Basketball|   211|\n",
      "|        China|Basketball|   200|\n",
      "|        Spain|Basketball|   180|\n",
      "+-------------+----------+------+\n",
      "only showing top 5 rows\n",
      "\n"
     ]
    }
   ],
   "source": [
    "best_in_basketball_df = best_in_basketball_df.groupBy(\"Team\",\"Sport\").agg(count(\"Medal\").alias(\"Amount\")).orderBy(\"Amount\", ascending=False)\n",
    "best_in_basketball_df.show(5)"
   ]
  },
  {
   "cell_type": "markdown",
   "id": "230873c2",
   "metadata": {},
   "source": [
    "As you could expect, US has the most medals in Basketball."
   ]
  }
 ],
 "metadata": {
  "kernelspec": {
   "display_name": "Python 3 (ipykernel)",
   "language": "python",
   "name": "python3"
  },
  "language_info": {
   "codemirror_mode": {
    "name": "ipython",
    "version": 3
   },
   "file_extension": ".py",
   "mimetype": "text/x-python",
   "name": "python",
   "nbconvert_exporter": "python",
   "pygments_lexer": "ipython3",
   "version": "3.9.0"
  }
 },
 "nbformat": 4,
 "nbformat_minor": 5
}
